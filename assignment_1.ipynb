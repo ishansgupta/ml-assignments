{
 "cells": [
  {
   "cell_type": "code",
   "execution_count": 237,
   "metadata": {},
   "outputs": [
    {
     "data": {
      "text/html": [
       "\n",
       "        <script>\n",
       "            function code_toggle_16341944184276568484() {\n",
       "                $('div.cell.code_cell.rendered.selected').find('div.input').toggle();\n",
       "            }\n",
       "\n",
       "            \n",
       "        </script>\n",
       "\n",
       "        <a href=\"javascript:code_toggle_16341944184276568484()\">Toggle show/hide</a>\n",
       "    "
      ],
      "text/plain": [
       "<IPython.core.display.HTML object>"
      ]
     },
     "execution_count": 237,
     "metadata": {},
     "output_type": "execute_result"
    }
   ],
   "source": [
    "from IPython.display import HTML\n",
    "import random\n",
    "\n",
    "def hide_toggle(for_next=False):\n",
    "    this_cell = \"\"\"$('div.cell.code_cell.rendered.selected')\"\"\"\n",
    "    next_cell = this_cell + '.next()'\n",
    "\n",
    "    toggle_text = 'Toggle show/hide'  # text shown on toggle link\n",
    "    target_cell = this_cell  # target cell to control with toggle\n",
    "    js_hide_current = ''  # bit of JS to permanently hide code in current cell (only when toggling next cell)\n",
    "\n",
    "    if for_next:\n",
    "        target_cell = next_cell\n",
    "        toggle_text += ' next cell'\n",
    "        js_hide_current = this_cell + '.find(\"div.input\").hide();'\n",
    "\n",
    "    js_f_name = 'code_toggle_{}'.format(str(random.randint(1,2**64)))\n",
    "\n",
    "    html = \"\"\"\n",
    "        <script>\n",
    "            function {f_name}() {{\n",
    "                {cell_selector}.find('div.input').toggle();\n",
    "            }}\n",
    "\n",
    "            {js_hide_current}\n",
    "        </script>\n",
    "\n",
    "        <a href=\"javascript:{f_name}()\">{toggle_text}</a>\n",
    "    \"\"\".format(\n",
    "        f_name=js_f_name,\n",
    "        cell_selector=target_cell,\n",
    "        js_hide_current=js_hide_current, \n",
    "        toggle_text=toggle_text\n",
    "    )\n",
    "\n",
    "    return HTML(html)\n",
    "hide_toggle()"
   ]
  },
  {
   "cell_type": "markdown",
   "metadata": {},
   "source": [
    "# Assignment 1 - Probability, Linear Algebra, Programming, and Git"
   ]
  },
  {
   "cell_type": "markdown",
   "metadata": {},
   "source": [
    "## *Ishan Gupta*\n",
    "Netid: ig55"
   ]
  },
  {
   "cell_type": "markdown",
   "metadata": {},
   "source": [
    "Instructions for all assignments can be found [here](https://github.com/kylebradbury/ids705/blob/master/assignments/_Assignment%20Instructions.ipynb), which is also linked to from the [course syllabus](https://kylebradbury.github.io/ids705/index.html)."
   ]
  },
  {
   "cell_type": "markdown",
   "metadata": {},
   "source": [
    "# Probability and Statistics Theory"
   ]
  },
  {
   "cell_type": "markdown",
   "metadata": {},
   "source": [
    "*Note: for all assignments, write out all equations and math using markdown and [LaTeX](https://tobi.oetiker.ch/lshort/lshort.pdf). For this assignment show ALL math work*"
   ]
  },
  {
   "cell_type": "markdown",
   "metadata": {},
   "source": [
    "## 1\n",
    "**[3 points]**  \n",
    "Let $f(x) = \\begin{cases}\n",
    "                0           & x < 0  \\\\\n",
    "                \\alpha x^2  & 0 \\leq x \\leq 2 \\\\\n",
    "                0           & 2 < x\n",
    "            \\end{cases}$\n",
    "            \n",
    "For what value of $\\alpha$ is $f(x)$ a valid probability density function?"
   ]
  },
  {
   "cell_type": "markdown",
   "metadata": {},
   "source": [
    "**ANSWER**\n",
    "\n",
    "$ \\int_{-\\infty}^{0} 0 dx + \\int_{0}^{2} \\alpha x^2 dx + \\int_{2}^{\\infty}0 dx = 1 $ \n",
    "\n",
    "$ 0 +  [\\frac{\\alpha x^3}{2}]_{0}^{2} + 0 = 1 $ \n",
    "\n",
    "$ \\alpha = \\frac{3}{8} $ "
   ]
  },
  {
   "cell_type": "markdown",
   "metadata": {},
   "source": [
    "## 2\n",
    "**[3 points]** What is the cumulative distribution function (CDF) that corresponds to the following probability distribution function? Please state the value of the CDF for all possible values of $x$.\n",
    "\n",
    "$f(x) = \\begin{cases}\n",
    "    \\frac{1}{3} & 0 < x < 3 \\\\\n",
    "    0           & \\text{otherwise}\n",
    "    \\end{cases}$"
   ]
  },
  {
   "cell_type": "markdown",
   "metadata": {},
   "source": [
    "**ANSWER**\n",
    "\n",
    "$F(x) = \\begin{cases}\n",
    "    \\frac{1}{3}x & 0 < x < 3 \\\\\n",
    "    0           & \\text{otherwise}\n",
    "    \\end{cases}$"
   ]
  },
  {
   "cell_type": "markdown",
   "metadata": {},
   "source": [
    "## 3\n",
    "**[6 points]** For the probability distribution function for the random variable $X$,\n",
    "\n",
    "$f(x) = \\begin{cases}\n",
    "    \\frac{1}{3} & 0 < x < 3 \\\\\n",
    "    0           & \\text{otherwise}\n",
    "    \\end{cases}$\n",
    "    \n",
    "what is the (a) expected value and (b) variance of $X$. *Show all work*."
   ]
  },
  {
   "cell_type": "markdown",
   "metadata": {},
   "source": [
    "**ANSWER**\n",
    "\n",
    "$\\int_{0}^{3}\\frac{x}{3} dx$\n",
    "\n",
    "$[\\frac{x^2}{6}]_{0}^{3}$\n",
    "\n",
    "$E[X] = \\frac{3}{2}$\n",
    "\n"
   ]
  },
  {
   "cell_type": "markdown",
   "metadata": {},
   "source": [
    "**ANSWER**\n",
    "\n",
    "$\\int_{0}^{3}\\frac{x^2}{3} dx$\n",
    "\n",
    "$[\\frac{x^3}{9}]_{0}^{3}$\n",
    "\n",
    "$V[X] = \\int_{-\\infty}^{+\\infty}x^2f(x)dx - E[X]^2$\n",
    "\n",
    "$V[X] = 3 - \\frac{9}{4} = \\frac{3}{4}$ "
   ]
  },
  {
   "cell_type": "markdown",
   "metadata": {},
   "source": [
    "## 4\n",
    "**[6 points]** Consider the following table of data that provides the values of a discrete data vector $\\mathbf{x}$ of samples from the random variable $X$, where each entry in $\\mathbf{x}$ is given as $x_i$.\n",
    "\n",
    "*Table 1. Dataset N=5 observations*\n",
    "\n",
    "|        | $x_0$ | $x_1$ | $x_2$ | $x_3$ | $x_4$ |\n",
    "|------  |-------|-------|-------|-------|-------|\n",
    "|$\\textbf{x}$| 2     | 3     | 10    | -1    | -1    |\n",
    "\n",
    "What is the (a) mean, (b) variance, and the  of the data? \n",
    "\n",
    "*Show all work. Your answer should include the definition of mean, median, and variance in the context of discrete data.*"
   ]
  },
  {
   "cell_type": "markdown",
   "metadata": {},
   "source": [
    "**ANSWER**\n",
    "Mean - Gives the average of values of dataset, Median - Middle value of a dataset wheen numbers are ordered in ascending/descending order(better measure to ignore in a dataset), Variance - Measure of how spread out data from the mean.\n",
    "\n",
    "$ \\mu = \\frac{2+3+10-1-1}{5} = \\frac{13}{5}$\n",
    "\n",
    "$var = \\frac{1}{5}*((\\frac{13}{5}  - 2)^2 + (\\frac{13}{5}  - 3)^2 + (\\frac{13}{5}  - 10)^2 + (\\frac{13}{5}  + 1)^2 + (\\frac{13}{5}  + 1)^2) = 16.24$ "
   ]
  },
  {
   "cell_type": "markdown",
   "metadata": {},
   "source": [
    "## 5\n",
    "**[8 points]** Review of counting from probability theory. \n",
    "\n",
    "(a) How many different 7-place license plates are possible if the first 3 places only contain letters and the last 4 only contain numbers?\n",
    "\n",
    "(b) How many different batting orders are possible for a baseball team with 9 players?\n",
    "\n",
    "(c) How many batting orders of 5 players are possible for a team with 9 players total?\n",
    "\n",
    "(d) Let's assume this class has 26 students and we want to form project teams. How many unique teams of 3 are possible?\n",
    "\n",
    "*Hint: For each problem, determine if order matters, and if it should be calculated with or without replacement.*"
   ]
  },
  {
   "cell_type": "markdown",
   "metadata": {},
   "source": [
    "**ANSWER**\n",
    "\n",
    "$ (a) \\: 26^3*10^4 = 175760000 $\n",
    "\n",
    "$(b) \\: 9! = 362880 $\n",
    "\n",
    "$(c) \\: 9P5 = 15120 $\n",
    "\n",
    "$(d) \\: 26C3 = 2600 $\n"
   ]
  },
  {
   "cell_type": "markdown",
   "metadata": {},
   "source": [
    "# Linear Algebra"
   ]
  },
  {
   "cell_type": "markdown",
   "metadata": {},
   "source": [
    "## 6\n",
    "**[7 points]** **Matrix manipulations and multiplication**. Machine learning involves working with many matrices, so this exercise will provide you with the opportunity to practice those skills.\n",
    "\n",
    "Let\n",
    "$\\mathbf{A} =  \\begin{bmatrix}\n",
    "1 & 2 & 3 \\\\\n",
    "2 & 4 & 5 \\\\\n",
    "3 & 5 & 6 \n",
    "\\end{bmatrix}$, $\\mathbf{b} =  \\begin{bmatrix}\n",
    "-1  \\\\\n",
    "3  \\\\\n",
    "8  \n",
    "\\end{bmatrix}$, $\\mathbf{c} =  \\begin{bmatrix}\n",
    "4  \\\\\n",
    "-3  \\\\\n",
    "6  \n",
    "\\end{bmatrix}$, and $\\mathbf{I} =  \\begin{bmatrix}\n",
    "1 & 0 & 0 \\\\\n",
    "0 & 1 & 0 \\\\\n",
    "0 & 0 & 1 \n",
    "\\end{bmatrix}$\n",
    "\n",
    "Compute the following or indicate that it cannot be computed:\n",
    "\n",
    "1. $\\mathbf{A}\\mathbf{A}$\n",
    "2. $\\mathbf{A}\\mathbf{A}^T$\n",
    "3. $\\mathbf{A}\\mathbf{b}$\n",
    "4. $\\mathbf{A}\\mathbf{b}^T$\n",
    "5. $\\mathbf{b}\\mathbf{A}$\n",
    "6. $\\mathbf{b}^T\\mathbf{A}$\n",
    "7. $\\mathbf{b}\\mathbf{b}$\n",
    "8. $\\mathbf{b}^T\\mathbf{b}$\n",
    "9. $\\mathbf{b}\\mathbf{b}^T$\n",
    "10. $\\mathbf{b} + \\mathbf{c}^T$\n",
    "11. $\\mathbf{b}^T\\mathbf{b}^T$\n",
    "12. $\\mathbf{A}^{-1}\\mathbf{b}$\n",
    "13. $\\mathbf{A}\\circ\\mathbf{A}$\n",
    "14. $\\mathbf{b}\\circ\\mathbf{c}$\n",
    "\n",
    "*Note: The element-wise (or Hadamard) product is the product of each element in one matrix with the corresponding element in another matrix, and is represented by the symbol \"$\\circ$\".*"
   ]
  },
  {
   "cell_type": "markdown",
   "metadata": {},
   "source": [
    "**ANSWER**\n",
    "\n",
    "$\\mathbf{1} =  \\begin{bmatrix}\n",
    "14 & 25 & 31 \\\\\n",
    "25 & 45 & 56 \\\\\n",
    "31 & 56 & 70 \n",
    "\\end{bmatrix}$\n",
    "\n",
    "$\\mathbf{2} =  \\begin{bmatrix}\n",
    "14 & 25 & 31 \\\\\n",
    "25 & 45 & 56 \\\\\n",
    "31 & 56 & 70 \n",
    "\\end{bmatrix}$\n",
    "\n",
    "$\\mathbf{3} =  \\begin{bmatrix}\n",
    "29 \\\\\n",
    "50 \\\\\n",
    "60 \n",
    "\\end{bmatrix}$\n",
    "\n",
    "$\\mathbf{4} = $ Cannot be computed\n",
    "\n",
    "$\\mathbf{5} = $ Cannot be computed\n",
    "\n",
    "$\\mathbf{6} = \\begin{bmatrix}\n",
    "29 & 50 & 60 \n",
    "\\end{bmatrix}$\n",
    "\n",
    "$\\mathbf{7} = $ Cannot be computed\n",
    "\n",
    "$\\mathbf{8} = \\begin{bmatrix}74\\end{bmatrix}$ \n",
    "\n",
    "$\\mathbf{9} =  \\begin{bmatrix}\n",
    "1 & -3 & -8 \\\\\n",
    "-3 & 9 & 24 \\\\\n",
    "-8 & 24 & 64 \n",
    "\\end{bmatrix}$\n",
    "\n",
    "$\\mathbf{10} = $ Cannot be computed\n",
    "\n",
    "$\\mathbf{11} = $ Cannot be computed\n",
    "\n",
    "$\\mathbf{12} =  \\begin{bmatrix}\n",
    "6 \\\\\n",
    "4 \\\\\n",
    "-5 \n",
    "\\end{bmatrix}$\n",
    "\n",
    "$\\mathbf{13} =  \\begin{bmatrix}\n",
    "1 & 4 & 9 \\\\\n",
    "4 & 16 & 25 \\\\\n",
    "9 & 25 & 36 \n",
    "\\end{bmatrix}$\n",
    "\n",
    "$\\mathbf{14} =  \\begin{bmatrix}\n",
    "-4 \\\\\n",
    "-9 \\\\\n",
    "48 \n",
    "\\end{bmatrix}$"
   ]
  },
  {
   "cell_type": "markdown",
   "metadata": {},
   "source": [
    "## 7\n",
    "**[8 points]** **Eigenvectors and eigenvalues**. Eigenvectors and eigenvalues are useful for some machine learning algorithms, but the concepts take time to solidly grasp. For an intuitive review of these concepts, explore this [interactive website at Setosa.io](http://setosa.io/ev/eigenvectors-and-eigenvalues/). Also, the series of linear algebra videos by Grant Sanderson of 3Brown1Blue are excellent and can be viewed on youtube [here](https://www.youtube.com/playlist?list=PLZHQObOWTQDPD3MizzM2xVFitgF8hE_ab).\n",
    "\n",
    "1. Calculate the eigenvalues and corresponding eigenvectors of matrix $\\mathbf{A}$ above, from the last question.\n",
    "2. Choose one of the eigenvector/eigenvalue pairs, $\\mathbf{v}$ and $\\lambda$, and show that $\\mathbf{A} \\mathbf{v} = \\lambda \\mathbf{v}$. Also show that this relationship extends to higher orders: $\\mathbf{A} \\mathbf{A} \\mathbf{v} = \\lambda^2 \\mathbf{v}$\n",
    "3. Show that the eigenvectors are orthogonal to one another (e.g. their inner product is zero). This is true for real, symmetric matrices."
   ]
  },
  {
   "cell_type": "code",
   "execution_count": 201,
   "metadata": {},
   "outputs": [
    {
     "name": "stdout",
     "output_type": "stream",
     "text": [
      "1.\n",
      "\n",
      "a) The eigenvalue is 11.344814282762083\n",
      "The eigenvector is [[-0.32798528]\n",
      " [-0.59100905]\n",
      " [-0.73697623]]\n",
      "b) The eigenvalue is -0.5157294715892572\n",
      "The eigenvector is [[-0.73697623]\n",
      " [-0.32798528]\n",
      " [ 0.59100905]]\n",
      "c) The eigenvalue is 0.17091518882717865\n",
      "The eigenvector is [[ 0.59100905]\n",
      " [-0.73697623]\n",
      " [ 0.32798528]]\n",
      "\n",
      "\n",
      "2.\n",
      "\n",
      "The value of Av is\n",
      "[[-3.72093206]\n",
      " [-6.70488789]\n",
      " [-8.36085845]]\n",
      "\n",
      "The value of lambda*v is\n",
      "[[-3.72093206]\n",
      " [-6.70488789]\n",
      " [-8.36085845]]\n",
      "\n",
      "We can clearly see the values are equal\n",
      "\n",
      "\n",
      "3.\n",
      "\n",
      "The value of AAv is\n",
      "[[-42.2132832 ]\n",
      " [-76.06570795]\n",
      " [-94.85238636]]\n",
      "\n",
      "The value of (lambda^2)*v is\n",
      "[[-42.2132832 ]\n",
      " [-76.06570795]\n",
      " [-94.85238636]]\n",
      "\n",
      "We can clearly see the values are equal\n"
     ]
    }
   ],
   "source": [
    "from numpy import linalg as LA\n",
    "mat = np.matrix([[1, 2, 3], [2, 4, 5], [3,5,6]])\n",
    "lam, vec = LA.eig(mat)\n",
    "vec_1 = vec[:, 0]\n",
    "lam_1 = lam[0]\n",
    "print(\"1.\\n\")\n",
    "for i in range(0,3):\n",
    "    vec_temp = vec[:, i]\n",
    "    print(chr(i+97)+\") The eigenvalue is \"+ str(lam[i]) + \"\\nThe eigenvector is \"+ str(vec_temp))\n",
    "    \n",
    "print(\"\\n\\n2.\\n\")\n",
    "print(\"The value of Av is\")\n",
    "print(np.matmul(mat,vec_1))\n",
    "\n",
    "print(\"\\nThe value of lambda*v is\")\n",
    "print(np.multiply(lam_1,vec_1))\n",
    "print(\"\\nWe can clearly see the values are equal\")\n",
    "\n",
    "print(\"\\n\\n3.\\n\")\n",
    "print(\"The value of AAv is\")\n",
    "print(np.matmul(np.matmul(mat,mat),vec_1))\n",
    "print(\"\\nThe value of (lambda^2)*v is\")\n",
    "print(np.multiply(np.multiply(lam_1,lam_1), vec_1))\n",
    "print(\"\\nWe can clearly see the values are equal\")\n",
    "\n"
   ]
  },
  {
   "cell_type": "markdown",
   "metadata": {},
   "source": [
    "# Numerical Programming"
   ]
  },
  {
   "cell_type": "markdown",
   "metadata": {},
   "source": [
    "## 8\n",
    "**[10 points]** Loading data and gathering insights from a real dataset\n",
    "\n",
    "**Data**. The data for this problem can be found in the `data` subfolder in the `assignments` folder on [github](https://github.com/kylebradbury/ids705). The filename is `egrid2016.xlsx`. This dataset is the Environmental Protection Agency's (EPA) [Emissions & Generation Resource Integrated Database (eGRID)](https://www.epa.gov/energy/emissions-generation-resource-integrated-database-egrid) containing information about all power plants in the United States, the amount of generation they produce, what fuel they use, the location of the plant, and many more quantities. We'll be using a subset of those data.\n",
    "\n",
    "The fields we'll be using include:\t\t\t\t\t\n",
    "    \n",
    "|field    |description|\n",
    "|:-----   |:-----|\n",
    "|SEQPLT16 |eGRID2016 Plant file sequence number (the index)| \n",
    "|PSTATABB |Plant state abbreviation|\n",
    "|PNAME    |Plant name |\n",
    "|LAT      |Plant latitude |\n",
    "|LON      |Plant longitude|\n",
    "|PLPRMFL  |Plant primary fuel |\n",
    "|CAPFAC   |Plant capacity factor |\n",
    "|NAMEPCAP |Plant nameplate capacity (Megawatts MW)|\n",
    "|PLNGENAN |Plant annual net generation (Megawatt-hours MWh)|\n",
    "|PLCO2EQA |Plant annual CO2 equivalent emissions (tons)|\n",
    "\n",
    "For more details on the data, you can refer to the [eGrid technical documents](https://www.epa.gov/sites/production/files/2018-02/documents/egrid2016_technicalsupportdocument_0.pdf). For example, you may want to review page 45 and the section \"Plant Primary Fuel (PLPRMFL)\", which gives the full names of the fuel types including WND for wind, NG for natural gas, BIT for Bituminous coal, etc.\n",
    "\n",
    "There also are a couple of \"gotchas\" to watch out for with this dataset:\n",
    "- The headers are on the second row and you'll want to ignore the first row (they're more detailed descriptions of the headers).\n",
    "- NaN values represent blanks in the data. These will appear regularly in real-world data, so getting experience working with it will be important.\n",
    "\n",
    "**Your objective**. For this dataset, your goal is answer the following questions about electricity generation in the United States:\n",
    "\n",
    "**(a)** Which plant has generated the most energy (measured in MWh)?\n",
    "\n",
    "**(b)** What is the name of the northern-most power plant in the United States?\n",
    "\n",
    "**(c)** What is the state where the northern-most power plant in the United States is located?\n",
    "\n",
    "**(d)** Plot a bar plot showing the amount of energy produced by each fuel for the plant. \n",
    "\n",
    "**(e)** From the plot in (d), which fuel for generation produces the most energy (MWh) in the United States?"
   ]
  },
  {
   "cell_type": "code",
   "execution_count": 202,
   "metadata": {},
   "outputs": [
    {
     "name": "stdout",
     "output_type": "stream",
     "text": [
      "(a) The most energy generating plant Palo Verde\n",
      "(b) The northern most plant is Barrow\n",
      "(c) The northern most plant state is AK\n",
      "(d)\n",
      "(e) NG is the most energy producing fuel\n"
     ]
    },
    {
     "data": {
      "image/png": "[encoded data removed]",
      "text/plain": [
       "<Figure size 432x288 with 1 Axes>"
      ]
     },
     "metadata": {
      "needs_background": "light"
     },
     "output_type": "display_data"
    }
   ],
   "source": [
    "#### (a)\n",
    "\n",
    "import pandas as pd\n",
    "import matplotlib.pyplot as plt\n",
    "df = pd.read_excel(\"./datasets/egrid2016.xlsx\", skiprows = [0])\n",
    "most_generating_plant = df.sort_values(\"PLNGENAN\", ascending = False)['PNAME'].iloc[0]\n",
    "print(\"(a) The most energy generating plant \"+ most_generating_plant)\n",
    "\n",
    "#### (b)\n",
    "most_north_plant = df.sort_values(\"LAT\", ascending = False)['PNAME'].iloc[0]\n",
    "print(\"(b) The northern most plant is \"+ most_north_plant)\n",
    "\n",
    "#### (c)\n",
    "most_north_plant_state = df.sort_values(\"LAT\", ascending = False)['PSTATABB'].iloc[0]\n",
    "print(\"(c) The northern most plant state is \"+ most_north_plant_state)\n",
    "\n",
    "\n",
    "#### (d)\n",
    "print(\"(d)\")\n",
    "df2 = df[['PLPRMFL','PLNGENAN']].groupby('PLPRMFL').agg(['sum','mean'])\n",
    "df2.columns = [c[1] if c[1] else c[0] for c in df2.columns.tolist()]\n",
    "df2.plot(kind = \"bar\")\n",
    "\n",
    "#### (e)\n",
    "print(\"(e) NG is the most energy producing fuel\")"
   ]
  },
  {
   "cell_type": "markdown",
   "metadata": {},
   "source": [
    "## 9\n",
    "**[8 points]** Speed comparison between vectorized and non-vectorized code. Begin by creating an array of 10 million random numbers using the numpy random.randn module. Compute the sum of the squares first in a for loop, then using Numpy's `dot` module. Time how long it takes to compute each and report the results and report the output. How many times faster is the vectorized code than the for loop approach?\n",
    "\n",
    "*Note: all code should be well commented, properly formatted, and your answers should be output using the `print()` function as follows (where the # represents your answers, to a reasonable precision):\n",
    "\n",
    "`Time [sec] (non-vectorized): ######`\n",
    "\n",
    "`Time [sec] (vectorized):     ######`\n",
    "\n",
    "`The vectorized code is ##### times faster than the vectorized code`"
   ]
  },
  {
   "cell_type": "code",
   "execution_count": 93,
   "metadata": {},
   "outputs": [
    {
     "name": "stdout",
     "output_type": "stream",
     "text": [
      "Time [sec] (non-vectorized): 2.83\n",
      "Time [sec] (vectorized): 0.0049\n",
      "The vectorized code is 577 times faster than the vectorized code\n"
     ]
    }
   ],
   "source": [
    "### Non-vectorized approach\n",
    "from random import randint\n",
    "import time\n",
    "import numpy as np\n",
    "array_generated = np.random.randint(low=-99999, high=99999, size=10000000)\n",
    "\n",
    "current_time = time.time()\n",
    "sum_of_squares = 0\n",
    "for i in array_generated:\n",
    "    sum_of_squares += i*i\n",
    "current_time_1 = time.time()\n",
    "nv_time = round(current_time_1 - current_time, 2)\n",
    "print(\"Time [sec] (non-vectorized): \"+ str(nv_time))\n",
    "    \n",
    "\n",
    "#### Vectorized approach\n",
    "current_time = time.time()\n",
    "\n",
    "total_sum = np.sum(np.dot(array_generated, array_generated))\n",
    "current_time_1 = time.time()\n",
    "v_time = round(current_time_1 - current_time, 4)\n",
    "\n",
    "print(\"Time [sec] (vectorized): \"+ str(v_time))\n",
    "print(\"The vectorized code is \" + str(int(nv_time/v_time)) + \" times faster than the vectorized code.\")\n",
    "\n"
   ]
  },
  {
   "cell_type": "markdown",
   "metadata": {},
   "source": [
    "**ANSWER**"
   ]
  },
  {
   "cell_type": "markdown",
   "metadata": {},
   "source": [
    "## 10\n",
    "**[10 points]** One popular Agile development framework is Scrum (a paradigm recommended for data science projects). It emphasizes the continual evolution of code for projects, becoming progressively better, but starting with a quickly developed minimum viable product. This often means that code written early on is not optimized, and that's a good thing - it's best to get it to work first before optimizing. Imagine that you wrote the following code during a sprint towards getting an end-to-end system working. Vectorize the following code and show the difference in speed between the current implementation and a vectorized version.\n",
    "\n",
    "The function below computes the function $f(x,y) = x^2 - 2 y^2$ and determines whether this quantity is above or below a given threshold, `thresh=0`. This is done for $x,y \\in \\{-4,4\\}$, over a 2,000-by-2,000 grid covering that domain.\n",
    "\n",
    "(a) Vectorize this code and demonstrate (as in the last exercise) the speed increase through vectorization and (b) plot the resulting data - both the function $f(x,y)$ and the thresholded output - using [`imshow`](https://matplotlib.org/api/_as_gen/matplotlib.pyplot.imshow.html?highlight=matplotlib%20pyplot%20imshow#matplotlib.pyplot.imshow) from `matplotlib`.\n",
    "\n",
    "*Hint: look at the `numpy` [`meshgrid`](https://docs.scipy.org/doc/numpy-1.13.0/reference/generated/numpy.meshgrid.html) documentation*"
   ]
  },
  {
   "cell_type": "markdown",
   "metadata": {},
   "source": [
    "**ANSWER**"
   ]
  },
  {
   "cell_type": "code",
   "execution_count": 204,
   "metadata": {},
   "outputs": [
    {
     "name": "stdout",
     "output_type": "stream",
     "text": [
      "Time [sec] (non vectorized): 7.1851\n",
      "Time [sec] (vectorized): 0.0623\n",
      "The vectorized code is 115 times faster than the non vectorized code\n"
     ]
    },
    {
     "data": {
      "text/plain": [
       "[<matplotlib.lines.Line2D at 0x13646d2e8>]"
      ]
     },
     "execution_count": 204,
     "metadata": {},
     "output_type": "execute_result"
    },
    {
     "data": {
      "image/png": "[encoded data removed]",
      "text/plain": [
       "<Figure size 420x280 with 1 Axes>"
      ]
     },
     "metadata": {
      "needs_background": "light"
     },
     "output_type": "display_data"
    },
    {
     "data": {
      "image/png": "[encoded data removed]",
      "text/plain": [
       "<Figure size 420x280 with 1 Axes>"
      ]
     },
     "metadata": {
      "needs_background": "light"
     },
     "output_type": "display_data"
    }
   ],
   "source": [
    "import numpy as np\n",
    "import time\n",
    "import matplotlib.pyplot as plt\n",
    "\n",
    "nvalues = 2000\n",
    "xvalues = np.linspace(-4,4,nvalues)\n",
    "yvalues = np.linspace(-4,4,nvalues)\n",
    "thresh  = 0\n",
    "\n",
    "# Nonvectorized implementation\n",
    "t0 = time.time()\n",
    "f = np.zeros((nvalues,nvalues))\n",
    "f_thresholded = np.zeros((nvalues,nvalues))\n",
    "for ix, x in enumerate(xvalues):\n",
    "    for iy, y in enumerate(yvalues):\n",
    "        f[ix,iy]             = x**2 - 2 * y**2\n",
    "        f_thresholded[ix,iy] = f[ix,iy] > thresh\n",
    "t1 = time.time()\n",
    "nv_time = round(t1 - t0,4)\n",
    "\n",
    "# Vectorized implementation\n",
    "t1 = time.time()\n",
    "xv, yv = np.meshgrid(xvalues, yvalues)\n",
    "f_vectorized = np.add(np.multiply(xv, xv),np.multiply(-2,np.multiply(yv, yv)))\n",
    "f_thresholded_vectorized  = np.where(f_vectorized > 0, True, False)\n",
    "t2 = time.time()\n",
    "v_time = round(t2 - t1,4)\n",
    "\n",
    "\n",
    "# Vectorization speed performance results\n",
    "print(\"Time [sec] (non vectorized): \"+ str(nv_time))\n",
    "print(\"Time [sec] (vectorized): \"+ str(v_time))\n",
    "print(\"The vectorized code is \" + str(int(nv_time/v_time)) + \" times faster than the non vectorized code\")\n",
    "\n",
    "# Plot the function f(x,y)\n",
    "\n",
    "\n",
    "figure = plt.figure(dpi=70)\n",
    "subplot = figure.add_subplot(111)\n",
    "subplot.set_xlim(-4, 4)\n",
    "subplot.set_ylim(-4, 4)\n",
    "subplot.imshow(f_vectorized, extent=[-4, 4, -4, 4])\n",
    "subplot.plot(x, y)\n",
    "\n",
    "\n",
    "figure = plt.figure(dpi=70)\n",
    "subplot = figure.add_subplot(111)\n",
    "subplot.set_xlim(-4, 4)\n",
    "subplot.set_ylim(-4, 4)\n",
    "subplot.imshow(f_thresholded_vectorized, extent=[-4, 4, -4, 4])\n",
    "subplot.plot(x, y)"
   ]
  },
  {
   "cell_type": "markdown",
   "metadata": {},
   "source": [
    "## 11\n",
    "**[10 points]** This exercise will walk through some basic numerical programming exercises.\n",
    "1. Synthesize $n=10^4$ normally distributed data points with mean $\\mu=2$ and a standard deviation of $\\sigma=1$. Call these observations from a random variable $X$, and call the vector of observations that you generate, $\\textbf{x}$.\n",
    "2. Calculate the mean and standard deviation of $\\textbf{x}$ to validate (1) and provide the result to a precision of four significant figures.\n",
    "3. Plot a histogram of the data in $\\textbf{x}$ with 30 bins\n",
    "4. What is the 90th percentile of $\\textbf{x}$? The 90th percentile is the value below which 90% of observations can be found.\n",
    "5. What is the 99th percentile of $\\textbf{x}$?\n",
    "6. Now synthesize $n=10^4$ normally distributed data points with mean $\\mu=0$ and a standard deviation of $\\sigma=3$. Call these observations from a random variable $Y$, and call the vector of observations that you generate, $\\textbf{y}$.\n",
    "7. Create a new figure and plot the histogram of the data in $\\textbf{y}$ on the same axes with the histogram of $\\textbf{x}$, so that both histograms can be seen and compared.\n",
    "8. Using the observations from $\\textbf{x}$ and $\\textbf{y}$, estimate $E[XY]$"
   ]
  },
  {
   "cell_type": "code",
   "execution_count": 203,
   "metadata": {},
   "outputs": [
    {
     "name": "stdout",
     "output_type": "stream",
     "text": [
      "2. The mean is 2.0137\n",
      "3. The std is 1.0073\n"
     ]
    },
    {
     "data": {
      "image/png": "[encoded data removed]",
      "text/plain": [
       "<Figure size 432x288 with 1 Axes>"
      ]
     },
     "metadata": {
      "needs_background": "light"
     },
     "output_type": "display_data"
    },
    {
     "name": "stdout",
     "output_type": "stream",
     "text": [
      "4. The 90th percentile is 3.29\n",
      "5. The 90th percentile is 4.39\n"
     ]
    },
    {
     "data": {
      "image/png": "[encoded data removed]",
      "text/plain": [
       "<Figure size 432x288 with 1 Axes>"
      ]
     },
     "metadata": {
      "needs_background": "light"
     },
     "output_type": "display_data"
    },
    {
     "name": "stdout",
     "output_type": "stream",
     "text": [
      "8. Since the variables are independent, E(XY) = -0.010711955741494196\n"
     ]
    }
   ],
   "source": [
    "### 1\n",
    "mu, sigma = 2,1\n",
    "s = np.random.normal(mu, sigma, 10000)\n",
    "\n",
    "#### 2\n",
    "print(\"2. The mean is \"+ str(round(np.mean(s),4)))\n",
    "print(\"3. The std is \"+ str(round(np.std(s),4)))\n",
    "\n",
    "#### 3\n",
    "plt.hist(s, bins = 30)\n",
    "plt.show()\n",
    "\n",
    "\n",
    "#### 4\n",
    "perc_90 = np.percentile(s,90)\n",
    "print(\"4. The 90th percentile is \"+ str(round(perc_90,2)))\n",
    "\n",
    "\n",
    "#### 5\n",
    "perc_99 = np.percentile(s,99)\n",
    "print(\"5. The 90th percentile is \"+ str(round(perc_99,2)))\n",
    "\n",
    "\n",
    "#### 6\n",
    "mu_1, sigma_1 = 0,3\n",
    "t = np.random.normal(mu_1, sigma_1, 10000)\n",
    "\n",
    "#### 7\n",
    "plt.hist(s, bins = 30,  alpha=0.5)\n",
    "plt.hist(t, bins = 30,  alpha=0.5)\n",
    "plt.show()\n",
    "\n",
    "#### 8\n",
    "print(\"8. Since the variables are independent, E(XY) = \"+ str(np.mean(s)*np.mean(t)))\n",
    "\n"
   ]
  },
  {
   "cell_type": "markdown",
   "metadata": {},
   "source": [
    "# Version Control via Git"
   ]
  },
  {
   "cell_type": "markdown",
   "metadata": {},
   "source": [
    "## 12\n",
    "**[1 point]** You will need to use Git to submit assignments and in the course projects and is generally a version control and collaboration tool. You can even use some Git repositories (e.g. Github) as hosts for website, such as with the [course website](https://kylebradbury.github.io/ids705/index.html). \n",
    "\n",
    "Complete the [Atlassian Git tutorial](https://www.atlassian.com/git/tutorials/what-is-version-control), specifically the following listed sections. Try each concept that's presented. For this tutorial, instead of using BitBucket as your remote repository host, you may use your preferred platform such as [Github](https://github.com/) or [Duke's Gitlab](https://gitlab.oit.duke.edu/users/sign_in).\n",
    "1. [What is version control](https://www.atlassian.com/git/tutorials/what-is-version-control)\n",
    "2. [What is Git](https://www.atlassian.com/git/tutorials/what-is-git)\n",
    "3. [Install Git](https://www.atlassian.com/git/tutorials/install-git)\n",
    "4. [Setting up a repository](https://www.atlassian.com/git/tutorials/install-git)\n",
    "5. [Saving changes](https://www.atlassian.com/git/tutorials/saving-changes)\n",
    "6. [Inspecting a repository](https://www.atlassian.com/git/tutorials/inspecting-a-repository)\n",
    "7. [Undoing changes](https://www.atlassian.com/git/tutorials/undoing-changes)\n",
    "8. [Rewriting history](https://www.atlassian.com/git/tutorials/rewriting-history)\n",
    "9. [Syncing](https://www.atlassian.com/git/tutorials/syncing)\n",
    "10. [Making a pull request](https://www.atlassian.com/git/tutorials/making-a-pull-request)\n",
    "11. [Using branches](https://www.atlassian.com/git/tutorials/using-branches)\n",
    "12. [Comparing workflows](https://www.atlassian.com/git/tutorials/comparing-workflows)\n",
    "\n",
    "I also have created two videos on the topic to help you understand some of these concepts: [Git basics](https://www.youtube.com/watch?v=fBCwfoBr2ng) and a [step-by-step tutorial](https://www.youtube.com/watch?v=nH7qJHx-h5s).\n",
    "\n",
    "For your answer, affirm that you *either* completed the tutorial or have previous experience with all of the concepts above. Do this by typing your name below and selecting the situation that applies from the two options in brackets."
   ]
  },
  {
   "cell_type": "markdown",
   "metadata": {},
   "source": [
    "**ANSWER**\n",
    "\n",
    "I, **Ishan Gupta**, affirm that  **I have previous experience that covers all the content in this tutorial**"
   ]
  },
  {
   "cell_type": "markdown",
   "metadata": {},
   "source": [
    "# Exploratory Data Analysis\n",
    "## 13\n",
    "**[20 points]** Here you'll bring together some of the individual skills that you demonstrated above and create a Jupyter notebook based blog post on data analysis.\n",
    "\n",
    "1. Find a dataset that interests you and relates to a question or problem that you find intriguing\n",
    "2. Using a Jupyter notebook, describe the dataset, the source of the data, and the reason the dataset was of interest.\n",
    "3. Check the data and see if they need to be cleaned: are there missing values? Are there clearly erroneous values? Do two tables need to be merged together? Clean the data so it can be visualized.\n",
    "3. Plot the data, demonstrating interesting features that you discover. Are there any relationships between variables that were surprising or patterns that emerged? Please exercise creativity and curiosity in your plots.\n",
    "4. What insights are you able to take away from exploring the data? Is there a reason why analyzing the dataset you chose is particularly interesting or important? Summarize this as if your target audience was the readership of a major news organization - boil down your findings in a way that is accessible, but still accurate.\n",
    "\n",
    "Here your analysis will evaluated based on:\n",
    "1. Data cleaning: did you look for and work to resolve issues in the data?\n",
    "2. Quality of data exploration: did you provide plots demonstrating interesting aspects of the data?\n",
    "3. Interpretation: Did you clearly explain your insights? Restating the data, alone, is not interpretation.\n",
    "5. Professionalism: Was this work done in a way that exhibits professionalism through clarity, organization, high quality figures and plots, and meaningful descriptions?"
   ]
  },
  {
   "cell_type": "markdown",
   "metadata": {},
   "source": [
    "**ANSWER**"
   ]
  },
  {
   "cell_type": "code",
   "execution_count": 244,
   "metadata": {
    "tags": [
     "remove_cell"
    ]
   },
   "outputs": [
    {
     "data": {
      "text/html": [
       "\n",
       "<style>h1 { font-family: Futura, \"Trebuchet MS\", Arial, sans-serif; font-size: 24px;\n",
       "           font-style: normal; font-variant: normal; font-weight: bold; line-height: 26px; }\n",
       "h3 { font-family: Futura, \"Trebuchet MS\", Arial, sans-serif; font-size: 14px; font-style: normal; font-variant: normal; font-weight: bold; line-height: 15px; } \n",
       "p { font-family: Futura, \"Trebuchet MS\", Arial, sans-serif; font-size: 14px; font-style: normal; font-variant: normal; font-weight: 400; line-height: 20px; } blockquote { font-family: Futura, \"Trebuchet MS\", Arial, sans-serif; font-size: 21px; font-style: normal; font-variant: normal; font-weight: 400; line-height: 30px; } pre { font-family: Futura, \"Trebuchet MS\", Arial, sans-serif; font-size: 13px; font-style: normal; font-variant: normal; font-weight: 400; line-height: 18px; } </style>\n",
       "<h1><center>Analyzing Stackoverflow Insights data</center></h1>\n",
       "<br/>\n",
       "<h3><center>Introduction</center></h3>\n",
       "<br>\n",
       "<p>With growing technology, we see new programming languages come up every year. For a beginner, it often becomes difficult\n",
       "to understand which languages to begin with. In the scope of this project we try to understand which languages have \n",
       "the most impact on salaries. We also try and impact other different factors that impact salaries.\n",
       "</p>\n",
       "<p>\n",
       "To analyze this we use the data provided by StackOverflow in which developers take an yearly anonymous survey answering\n",
       "close to 60 questions. Questions are based on different range of topics like salaries, job satisfaction, country, \n",
       "languages, contribution to open source etc. Nearly 90,000 developers took this survey in the year 2019. The survey on an average takes about 30 minutes \n",
       "to complete and can be found <a href = \"https://insights.stackoverflow.com\">here</a>.\n",
       "</p>\n",
       "\n",
       "<p>\n",
       "In this assignment most of the fields take discrete variables apart from the salary variables. While analyzing salary\n",
       "can be challenging we will do our best to understand the data.\n",
       "</p>"
      ],
      "text/plain": [
       "<IPython.core.display.HTML object>"
      ]
     },
     "metadata": {},
     "output_type": "display_data"
    },
    {
     "data": {
      "text/html": [
       "\n",
       "        <script>\n",
       "            function code_toggle_4600170383541161489() {\n",
       "                $('div.cell.code_cell.rendered.selected').find('div.input').toggle();\n",
       "            }\n",
       "\n",
       "            \n",
       "        </script>\n",
       "\n",
       "        <a href=\"javascript:code_toggle_4600170383541161489()\">Toggle show/hide</a>\n",
       "    "
      ],
      "text/plain": [
       "<IPython.core.display.HTML object>"
      ]
     },
     "execution_count": 244,
     "metadata": {},
     "output_type": "execute_result"
    }
   ],
   "source": [
    "display(HTML('''\n",
    "<style>h1 { font-family: Futura, \"Trebuchet MS\", Arial, sans-serif; font-size: 24px;\n",
    "           font-style: normal; font-variant: normal; font-weight: bold; line-height: 26px; }\n",
    "h3 { font-family: Futura, \"Trebuchet MS\", Arial, sans-serif; font-size: 14px; font-style: normal; font-variant: normal; font-weight: bold; line-height: 15px; } \n",
    "p { font-family: Futura, \"Trebuchet MS\", Arial, sans-serif; font-size: 14px; font-style: normal; font-variant: normal; font-weight: 400; line-height: 20px; } blockquote { font-family: Futura, \"Trebuchet MS\", Arial, sans-serif; font-size: 21px; font-style: normal; font-variant: normal; font-weight: 400; line-height: 30px; } pre { font-family: Futura, \"Trebuchet MS\", Arial, sans-serif; font-size: 13px; font-style: normal; font-variant: normal; font-weight: 400; line-height: 18px; } </style>\n",
    "<h1><center>Analyzing Stackoverflow Insights data</center></h1>\n",
    "<br/>\n",
    "<h3><center>Introduction</center></h3>\n",
    "<br>\n",
    "<p>With growing technology, we see new programming languages come up every year. For a beginner, it often becomes difficult\n",
    "to understand which languages to begin with. In the scope of this project we try to understand which languages have \n",
    "the most impact on salaries. We also try and impact other different factors that impact salaries.\n",
    "</p>\n",
    "<p>\n",
    "To analyze this we use the data provided by StackOverflow in which developers take an yearly anonymous survey answering\n",
    "close to 60 questions. Questions are based on different range of topics like salaries, job satisfaction, country, \n",
    "languages, contribution to open source etc. Nearly 90,000 developers took this survey in the year 2019. The survey on an average takes about 30 minutes \n",
    "to complete and can be found <a href = \"https://insights.stackoverflow.com\">here</a>.\n",
    "</p>\n",
    "\n",
    "<p>\n",
    "In this assignment most of the fields take discrete variables apart from the salary variables. While analyzing salary\n",
    "can be challenging we will do our best to understand the data.\n",
    "</p>'''))\n",
    "hide_toggle()\n",
    "\n"
   ]
  },
  {
   "cell_type": "code",
   "execution_count": 289,
   "metadata": {},
   "outputs": [],
   "source": [
    "df = pd.read_csv(\"./datasets/developer_survey_2019/survey_results_public.csv\")\n",
    "df = df[df['Country'] =='United States']\n",
    "df = df[df.ConvertedComp.notnull()]\n",
    "df = df[df.LanguageWorkedWith.notnull()]"
   ]
  },
  {
   "cell_type": "code",
   "execution_count": 287,
   "metadata": {},
   "outputs": [
    {
     "data": {
      "text/html": [
       "\n",
       "<br>\n",
       "<h3><center>Data Cleaning<center></h3>\n",
       "<br>\n",
       "<p> After loading the data we start by analyzing the data only for US. As the buying power of countries is different\n",
       "it does not make mich sense to analyze salries of different countries. We are left with 20949 rows after selecting\n",
       "only rows from the USA. Next, we are not interested in data which we do not have any data for salaries. Post this filter\n",
       "we are left with 14981 rows.</p>\n",
       "<p>\n",
       "An important point to note is that the salaries might be weekly, hourly, or monthly across different currencies.\n",
       ".Here, we are using ConvertedComp for our analysis. This is the salary converted to USD\n",
       "per annum.\n",
       "</p>\n",
       "<p>\n",
       "Next we try to observe the data on the most relevant field to us, \"Langauge worked with\", we observe that within this\n",
       "column the values are ; separated. We will try to fix that next, and try to pick up the first language obtained from\n",
       "; separated level. For now we just create another field as an array and store the languages in that array.\n",
       "</p>\n"
      ],
      "text/plain": [
       "<IPython.core.display.HTML object>"
      ]
     },
     "metadata": {},
     "output_type": "display_data"
    },
    {
     "data": {
      "text/html": [
       "\n",
       "        <script>\n",
       "            function code_toggle_7578438280108993872() {\n",
       "                $('div.cell.code_cell.rendered.selected').find('div.input').toggle();\n",
       "            }\n",
       "\n",
       "            \n",
       "        </script>\n",
       "\n",
       "        <a href=\"javascript:code_toggle_7578438280108993872()\">Toggle show/hide</a>\n",
       "    "
      ],
      "text/plain": [
       "<IPython.core.display.HTML object>"
      ]
     },
     "execution_count": 287,
     "metadata": {},
     "output_type": "execute_result"
    }
   ],
   "source": [
    "display(HTML('''\n",
    "<br>\n",
    "<h3><center>Data Cleaning<center></h3>\n",
    "<br>\n",
    "<p> After loading the data we start by analyzing the data only for US. As the buying power of countries is different\n",
    "it does not make mich sense to analyze salries of different countries. We are left with 20949 rows after selecting\n",
    "only rows from the USA. Next, we are not interested in data which we do not have any data for salaries. Post this filter\n",
    "we are left with 14981 rows.</p>\n",
    "<p>\n",
    "An important point to note is that the salaries might be weekly, hourly, or monthly across different currencies.\n",
    ".Here, we are using ConvertedComp for our analysis. This is the salary converted to USD\n",
    "per annum.\n",
    "</p>\n",
    "<p>\n",
    "Next we try to observe the data on the most relevant field to us, \"Langauge worked with\", we observe that within this\n",
    "column the values are ; separated. We will try to fix that next, and try to pick up the first language obtained from\n",
    "; separated level. For now we just create another field as an array and store the languages in that array.\n",
    "</p>\n",
    "'''))\n",
    "hide_toggle()"
   ]
  },
  {
   "cell_type": "code",
   "execution_count": 306,
   "metadata": {},
   "outputs": [],
   "source": [
    "df['LanguageWorkedWithClean'] = df['LanguageWorkedWith'].str.split(\";\")\n",
    "df = df[df.LanguageWorkedWithClean.map(len) > 0]\n",
    "df['PrimaryLanguage'] = df['LanguageWorkedWith'].str.split(\";\").str[0]"
   ]
  },
  {
   "cell_type": "code",
   "execution_count": 285,
   "metadata": {},
   "outputs": [
    {
     "data": {
      "image/png": "[encoded data removed]",
      "text/plain": [
       "<Figure size 432x288 with 2 Axes>"
      ]
     },
     "metadata": {
      "needs_background": "light"
     },
     "output_type": "display_data"
    }
   ],
   "source": [
    "fig1, ax1 = plt.subplots(2)\n",
    "ax1[0].set_title('Box plot with outliers')\n",
    "ax1[0].boxplot(df['ConvertedComp'])\n",
    "ax1[1].set_title('Box plot without outliers')\n",
    "ax1[1].boxplot(df['ConvertedComp'], showfliers = False)\n",
    "plt.show()"
   ]
  },
  {
   "cell_type": "code",
   "execution_count": 295,
   "metadata": {},
   "outputs": [
    {
     "data": {
      "text/html": [
       "\n",
       "<p> We can see a major difference in plots with outliers and without outliers. As this was a human survey people might\n",
       "get ambitious with their salaries and might throw in some junk  values. For our analysis we will use salaries which\n",
       "are in range from 40000 to 250000 USD. </p>"
      ],
      "text/plain": [
       "<IPython.core.display.HTML object>"
      ]
     },
     "metadata": {},
     "output_type": "display_data"
    },
    {
     "data": {
      "text/html": [
       "\n",
       "        <script>\n",
       "            function code_toggle_2258131861852035452() {\n",
       "                $('div.cell.code_cell.rendered.selected').find('div.input').toggle();\n",
       "            }\n",
       "\n",
       "            \n",
       "        </script>\n",
       "\n",
       "        <a href=\"javascript:code_toggle_2258131861852035452()\">Toggle show/hide</a>\n",
       "    "
      ],
      "text/plain": [
       "<IPython.core.display.HTML object>"
      ]
     },
     "execution_count": 295,
     "metadata": {},
     "output_type": "execute_result"
    }
   ],
   "source": [
    "display(HTML('''\n",
    "<p> We can see a major difference in plots with outliers and without outliers. As this was a human survey people might\n",
    "get ambitious with their salaries and might throw in some junk  values. For our analysis we will use salaries which\n",
    "are in range from 40000 to 250000 USD. </p>'''))\n",
    "hide_toggle()"
   ]
  },
  {
   "cell_type": "code",
   "execution_count": 299,
   "metadata": {},
   "outputs": [
    {
     "data": {
      "text/plain": [
       "(12550, 87)"
      ]
     },
     "execution_count": 299,
     "metadata": {},
     "output_type": "execute_result"
    }
   ],
   "source": [
    "df = df[(df['ConvertedComp'] <= 250000) & (df['ConvertedComp'] >= 40000)]\n",
    "df.shape"
   ]
  },
  {
   "cell_type": "code",
   "execution_count": 328,
   "metadata": {},
   "outputs": [
    {
     "data": {
      "text/html": [
       "\n",
       "<br>\n",
       "<h3><center>EDA</center></h3>\n",
       "<p> Next we start by analyzing different aspects of our data. We will be using bar charts to plot how salaries \n",
       "vary across different factors.</p>\n",
       "\n",
       "<p>1. Let us start by analyzing different primary languages and their median salaries. </p>"
      ],
      "text/plain": [
       "<IPython.core.display.HTML object>"
      ]
     },
     "metadata": {},
     "output_type": "display_data"
    },
    {
     "data": {
      "text/html": [
       "\n",
       "        <script>\n",
       "            function code_toggle_4449340869462476541() {\n",
       "                $('div.cell.code_cell.rendered.selected').find('div.input').toggle();\n",
       "            }\n",
       "\n",
       "            \n",
       "        </script>\n",
       "\n",
       "        <a href=\"javascript:code_toggle_4449340869462476541()\">Toggle show/hide</a>\n",
       "    "
      ],
      "text/plain": [
       "<IPython.core.display.HTML object>"
      ]
     },
     "execution_count": 328,
     "metadata": {},
     "output_type": "execute_result"
    }
   ],
   "source": [
    "display(HTML('''\n",
    "<br>\n",
    "<h3><center>EDA</center></h3>\n",
    "<p> Next we start by analyzing different aspects of our data. We will be using bar charts to plot how salaries \n",
    "vary across different factors.</p>\n",
    "\n",
    "<p>1. Let us start by analyzing different primary languages and their median salaries. </p>'''))\n",
    "hide_toggle()\n"
   ]
  },
  {
   "cell_type": "code",
   "execution_count": 324,
   "metadata": {},
   "outputs": [
    {
     "data": {
      "text/plain": [
       "<matplotlib.axes._subplots.AxesSubplot at 0x134b3a710>"
      ]
     },
     "execution_count": 324,
     "metadata": {},
     "output_type": "execute_result"
    },
    {
     "data": {
      "image/png": "[encoded data removed]",
      "text/plain": [
       "<Figure size 432x288 with 1 Axes>"
      ]
     },
     "metadata": {
      "needs_background": "light"
     },
     "output_type": "display_data"
    }
   ],
   "source": [
    "df_language = df.groupby(\"PrimaryLanguage\").agg({'ConvertedComp': ['median', 'mean']}).reset_index()\n",
    "df_language.plot(x='PrimaryLanguage', y='ConvertedComp',kind=\"bar\")"
   ]
  },
  {
   "cell_type": "code",
   "execution_count": 329,
   "metadata": {},
   "outputs": [
    {
     "data": {
      "text/html": [
       "\n",
       "<p> We see that the salary in languages like Scala, Elixir, Clojure and Erlang is relatively higher compared to any other\n",
       "language. This would make sense as these languages are unique and not a wide number of people know\n",
       "these languages. Old languages like VBA are\n",
       "no longer active and hence their salaries are on the lower side. Similary HTML which is relatively an easier language has\n",
       "lower salaries.</p>"
      ],
      "text/plain": [
       "<IPython.core.display.HTML object>"
      ]
     },
     "metadata": {},
     "output_type": "display_data"
    },
    {
     "data": {
      "text/html": [
       "\n",
       "        <script>\n",
       "            function code_toggle_15627703833963267773() {\n",
       "                $('div.cell.code_cell.rendered.selected').find('div.input').toggle();\n",
       "            }\n",
       "\n",
       "            \n",
       "        </script>\n",
       "\n",
       "        <a href=\"javascript:code_toggle_15627703833963267773()\">Toggle show/hide</a>\n",
       "    "
      ],
      "text/plain": [
       "<IPython.core.display.HTML object>"
      ]
     },
     "execution_count": 329,
     "metadata": {},
     "output_type": "execute_result"
    }
   ],
   "source": [
    "display(HTML('''\n",
    "<p> We see that the salary in languages like Scala, Elixir, Clojure and Erlang is relatively higher compared to any other\n",
    "language. This would make sense as these languages are unique and not a wide number of people know\n",
    "these languages. Old languages like VBA are\n",
    "no longer active and hence their salaries are on the lower side. Similary HTML which is relatively an easier language has\n",
    "lower salaries.</p>'''))\n",
    "hide_toggle()\n"
   ]
  },
  {
   "cell_type": "code",
   "execution_count": 333,
   "metadata": {},
   "outputs": [
    {
     "data": {
      "text/html": [
       "\n",
       "<p>2. Let us examine how different education qualifications impact salaries.</p>"
      ],
      "text/plain": [
       "<IPython.core.display.HTML object>"
      ]
     },
     "metadata": {},
     "output_type": "display_data"
    },
    {
     "data": {
      "text/html": [
       "\n",
       "        <script>\n",
       "            function code_toggle_8665350613311132438() {\n",
       "                $('div.cell.code_cell.rendered.selected').find('div.input').toggle();\n",
       "            }\n",
       "\n",
       "            \n",
       "        </script>\n",
       "\n",
       "        <a href=\"javascript:code_toggle_8665350613311132438()\">Toggle show/hide</a>\n",
       "    "
      ],
      "text/plain": [
       "<IPython.core.display.HTML object>"
      ]
     },
     "execution_count": 333,
     "metadata": {},
     "output_type": "execute_result"
    }
   ],
   "source": [
    "display(HTML('''\n",
    "<p>2. Let us examine how different education qualifications impact salaries.</p>'''))\n",
    "hide_toggle()"
   ]
  },
  {
   "cell_type": "code",
   "execution_count": 330,
   "metadata": {},
   "outputs": [
    {
     "data": {
      "text/plain": [
       "<matplotlib.axes._subplots.AxesSubplot at 0x134a6c940>"
      ]
     },
     "execution_count": 330,
     "metadata": {},
     "output_type": "execute_result"
    },
    {
     "data": {
      "image/png": "[encoded data removed]",
      "text/plain": [
       "<Figure size 432x288 with 1 Axes>"
      ]
     },
     "metadata": {
      "needs_background": "light"
     },
     "output_type": "display_data"
    }
   ],
   "source": [
    "df_language = df.groupby(\"EdLevel\").agg({'ConvertedComp': ['median', 'mean']}).reset_index()\n",
    "df_language.plot(x='EdLevel', y='ConvertedComp',kind=\"bar\")"
   ]
  },
  {
   "cell_type": "code",
   "execution_count": 335,
   "metadata": {},
   "outputs": [
    {
     "data": {
      "text/html": [
       "\n",
       "<p> We can see here that doing a bachelors and masters actually does not help in getting better salaries than\n",
       "a person who has no formal education. On the other hand, PHds have a significant rise in salaries. The difference in\n",
       "median/mean salaries across different educational qualifications is scientefically less to make any strong claims.\n",
       "</p>"
      ],
      "text/plain": [
       "<IPython.core.display.HTML object>"
      ]
     },
     "metadata": {},
     "output_type": "display_data"
    },
    {
     "data": {
      "text/html": [
       "\n",
       "        <script>\n",
       "            function code_toggle_12252912080533509074() {\n",
       "                $('div.cell.code_cell.rendered.selected').find('div.input').toggle();\n",
       "            }\n",
       "\n",
       "            \n",
       "        </script>\n",
       "\n",
       "        <a href=\"javascript:code_toggle_12252912080533509074()\">Toggle show/hide</a>\n",
       "    "
      ],
      "text/plain": [
       "<IPython.core.display.HTML object>"
      ]
     },
     "execution_count": 335,
     "metadata": {},
     "output_type": "execute_result"
    }
   ],
   "source": [
    "display(HTML('''\n",
    "<p> We can see here that doing a bachelors and masters actually does not help in getting better salaries than\n",
    "a person who has no formal education. On the other hand, PHds have a significant rise in salaries. The difference in\n",
    "median/mean salaries across different educational qualifications is scientefically less to make any strong claims.\n",
    "</p>'''))\n",
    "hide_toggle()"
   ]
  },
  {
   "cell_type": "code",
   "execution_count": null,
   "metadata": {},
   "outputs": [],
   "source": []
  }
 ],
 "metadata": {
  "kernelspec": {
   "display_name": "Python 3",
   "language": "python",
   "name": "python3"
  },
  "language_info": {
   "codemirror_mode": {
    "name": "ipython",
    "version": 3
   },
   "file_extension": ".py",
   "mimetype": "text/x-python",
   "name": "python",
   "nbconvert_exporter": "python",
   "pygments_lexer": "ipython3",
   "version": "3.7.3"
  },
  "varInspector": {
   "cols": {
    "lenName": 16,
    "lenType": 16,
    "lenVar": 40
   },
   "kernels_config": {
    "python": {
     "delete_cmd_postfix": "",
     "delete_cmd_prefix": "del ",
     "library": "var_list.py",
     "varRefreshCmd": "print(var_dic_list())"
    },
    "r": {
     "delete_cmd_postfix": ") ",
     "delete_cmd_prefix": "rm(",
     "library": "var_list.r",
     "varRefreshCmd": "cat(var_dic_list()) "
    }
   },
   "types_to_exclude": [
    "module",
    "function",
    "builtin_function_or_method",
    "instance",
    "_Feature"
   ],
   "window_display": false
  }
 },
 "nbformat": 4,
 "nbformat_minor": 2
}
